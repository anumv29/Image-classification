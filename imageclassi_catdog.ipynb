{
  "nbformat": 4,
  "nbformat_minor": 0,
  "metadata": {
    "colab": {
      "provenance": [],
      "mount_file_id": "1zbzmgS80C6RExC3L_GuziNDjmLyJqp4L",
      "authorship_tag": "ABX9TyMEFoB8Lzkc1vDwHAJ2Y941",
      "include_colab_link": true
    },
    "kernelspec": {
      "name": "python3",
      "display_name": "Python 3"
    },
    "language_info": {
      "name": "python"
    }
  },
  "cells": [
    {
      "cell_type": "markdown",
      "metadata": {
        "id": "view-in-github",
        "colab_type": "text"
      },
      "source": [
        "<a href=\"https://colab.research.google.com/github/anumv29/Image-classification/blob/main/imageclassi_catdog.ipynb\" target=\"_parent\"><img src=\"https://colab.research.google.com/assets/colab-badge.svg\" alt=\"Open In Colab\"/></a>"
      ]
    },
    {
      "cell_type": "code",
      "execution_count": 1,
      "metadata": {
        "id": "5JaXGMiZMBd_"
      },
      "outputs": [],
      "source": [
        "import os\n"
      ]
    },
    {
      "cell_type": "code",
      "source": [
        "os.listdir('/content/drive/MyDrive/DATA')"
      ],
      "metadata": {
        "colab": {
          "base_uri": "https://localhost:8080/"
        },
        "id": "aHUSZM_VMgik",
        "outputId": "f6fca663-a1c4-4089-cafb-2ca941ffe3f1"
      },
      "execution_count": 2,
      "outputs": [
        {
          "output_type": "execute_result",
          "data": {
            "text/plain": [
              "['Dog', 'Cat']"
            ]
          },
          "metadata": {},
          "execution_count": 2
        }
      ]
    },
    {
      "cell_type": "code",
      "source": [
        "os.listdir('/content/drive/MyDrive/DATA/Cat')"
      ],
      "metadata": {
        "colab": {
          "base_uri": "https://localhost:8080/"
        },
        "id": "Pk4z6_VJMv4m",
        "outputId": "a81292a9-fb9e-4cf0-c4ed-d25f264042f7"
      },
      "execution_count": 3,
      "outputs": [
        {
          "output_type": "execute_result",
          "data": {
            "text/plain": [
              "['cat.10.jpg',\n",
              " 'cat.1 - Copy.jpg',\n",
              " 'cat.11.jpg',\n",
              " 'cat.17.jpg',\n",
              " 'cat.18.jpg',\n",
              " 'cat.16.jpg',\n",
              " 'cat.2 - Copy.jpg',\n",
              " 'cat.13.jpg',\n",
              " 'cat.21.jpg',\n",
              " 'cat.12.jpg',\n",
              " 'cat.20.jpg',\n",
              " 'cat.15.jpg',\n",
              " 'cat.14.jpg',\n",
              " 'cat.24.jpg',\n",
              " 'cat.27.jpg',\n",
              " 'cat.3 - Copy.jpg',\n",
              " 'cat.28.jpg',\n",
              " 'cat.30.jpg',\n",
              " 'cat.29.jpg',\n",
              " 'cat.31.jpg',\n",
              " 'cat.53.jpg',\n",
              " 'cat.36.jpg',\n",
              " 'cat.41.jpg',\n",
              " 'cat.5 - Copy.jpg',\n",
              " 'cat.33.jpg',\n",
              " 'cat.47.jpg',\n",
              " 'cat.49.jpg',\n",
              " 'cat.38.jpg',\n",
              " 'cat.39.jpg',\n",
              " 'cat.54.jpg',\n",
              " 'cat.4 - Copy.jpg',\n",
              " 'cat.50.jpg',\n",
              " 'cat.32.jpg',\n",
              " 'cat.44.jpg',\n",
              " 'cat.42.jpg',\n",
              " 'cat.43.jpg',\n",
              " 'cat.35.jpg',\n",
              " 'cat.48.jpg',\n",
              " 'cat.37.jpg',\n",
              " 'cat.51.jpg',\n",
              " 'cat.34.jpg',\n",
              " 'cat.5.jpg',\n",
              " 'cat.46.jpg',\n",
              " 'cat.52.jpg',\n",
              " 'cat.40.jpg',\n",
              " 'cat.8.jpg',\n",
              " 'cat.7.jpg',\n",
              " 'cat.9.jpg',\n",
              " 'download.jpeg',\n",
              " 'download1.jpeg',\n",
              " 'download2.jpeg',\n",
              " 'download3.jpeg',\n",
              " 'download4.jpeg',\n",
              " 'download5.jpeg',\n",
              " 'download6.jpeg',\n",
              " 'download7.jpeg',\n",
              " 'download8.jpeg',\n",
              " 'images9.jpeg',\n",
              " 'images.jpeg',\n",
              " 'downloadcat.jpeg']"
            ]
          },
          "metadata": {},
          "execution_count": 3
        }
      ]
    },
    {
      "cell_type": "code",
      "source": [
        "os.listdir('/content/drive/MyDrive/DATA/Dog')"
      ],
      "metadata": {
        "colab": {
          "base_uri": "https://localhost:8080/"
        },
        "id": "ICODNKDAM1vt",
        "outputId": "5d156a3a-f372-4991-a3ae-69e9c04421c5"
      },
      "execution_count": 4,
      "outputs": [
        {
          "output_type": "execute_result",
          "data": {
            "text/plain": [
              "['dog.13.jpg',\n",
              " 'dog.15.jpg',\n",
              " 'dog.12.jpg',\n",
              " 'dog.14.jpg',\n",
              " 'dog.24.jpg',\n",
              " 'dog.23.jpg',\n",
              " 'dog.16.jpg',\n",
              " 'dog.18.jpg',\n",
              " 'dog.19.jpg',\n",
              " 'dog.21.jpg',\n",
              " 'dog.20.jpg',\n",
              " 'dog.17.jpg',\n",
              " 'dog.22.jpg',\n",
              " 'dog.27.jpg',\n",
              " 'dog.30.jpg',\n",
              " 'dog.31.jpg',\n",
              " 'dog.33.jpg',\n",
              " 'dog.32.jpg',\n",
              " 'dog.28.jpg',\n",
              " 'dog.26.jpg',\n",
              " 'dog.25.jpg',\n",
              " 'dog.47.jpg',\n",
              " 'dog.34.jpg',\n",
              " 'dog.40.jpg',\n",
              " 'dog.46.jpg',\n",
              " 'dog.51.jpg',\n",
              " 'dog.38.jpg',\n",
              " 'dog.56.jpg',\n",
              " 'dog.42.jpg',\n",
              " 'dog.55.jpg',\n",
              " 'dog.35.jpg',\n",
              " 'dog.60.jpg',\n",
              " 'dog.48.jpg',\n",
              " 'dog.39.jpg',\n",
              " 'dog.58.jpg',\n",
              " 'dog.44.jpg',\n",
              " 'dog.36.jpg',\n",
              " 'dog.57.jpg',\n",
              " 'dog.45.jpg',\n",
              " 'dog.65.jpg',\n",
              " 'dog.77.jpg',\n",
              " 'dog.70.jpg',\n",
              " 'dog.64.jpg',\n",
              " 'dog.67.jpg',\n",
              " 'dog.71.jpg',\n",
              " 'dog.78.jpg',\n",
              " 'dog.81.jpg',\n",
              " 'dog.69.jpg',\n",
              " 'dog.82.jpg',\n",
              " 'dog.79.jpg',\n",
              " 'dog.68.jpg',\n",
              " 'dog.66.jpg',\n",
              " 'dog.61.jpg',\n",
              " 'dog.63.jpg',\n",
              " 'dog.76.jpg',\n",
              " 'dog.80.jpg',\n",
              " 'download1.jpeg',\n",
              " 'download2.jpeg',\n",
              " 'download3.jpeg',\n",
              " 'download4.jpeg',\n",
              " 'download5.jpeg',\n",
              " 'download6.jpeg',\n",
              " 'images.jpeg',\n",
              " 'images1.jpeg',\n",
              " 'download7.jpeg',\n",
              " 'download8.jpeg']"
            ]
          },
          "metadata": {},
          "execution_count": 4
        }
      ]
    },
    {
      "cell_type": "code",
      "source": [
        "len(os.listdir('/content/drive/MyDrive/DATA/Dog'))"
      ],
      "metadata": {
        "colab": {
          "base_uri": "https://localhost:8080/"
        },
        "id": "ELx6Ld24NGvq",
        "outputId": "fbf341af-5fa1-4244-e3bc-54d862ff4e88"
      },
      "execution_count": 5,
      "outputs": [
        {
          "output_type": "execute_result",
          "data": {
            "text/plain": [
              "66"
            ]
          },
          "metadata": {},
          "execution_count": 5
        }
      ]
    },
    {
      "cell_type": "code",
      "source": [
        "datadir='/content/drive/MyDrive/DATA'\n",
        "dogpath=os.path.join(datadir,'Dog')\n",
        "dogpath"
      ],
      "metadata": {
        "colab": {
          "base_uri": "https://localhost:8080/",
          "height": 35
        },
        "id": "153K4cfhNSjQ",
        "outputId": "2f44965d-27a3-4103-9f51-1c6d20c5107b"
      },
      "execution_count": 6,
      "outputs": [
        {
          "output_type": "execute_result",
          "data": {
            "text/plain": [
              "'/content/drive/MyDrive/DATA/Dog'"
            ],
            "application/vnd.google.colaboratory.intrinsic+json": {
              "type": "string"
            }
          },
          "metadata": {},
          "execution_count": 6
        }
      ]
    },
    {
      "cell_type": "code",
      "source": [
        "datadir='/content/drive/MyDrive/DATA'\n",
        "sub =os.listdir(datadir)\n",
        "sub"
      ],
      "metadata": {
        "colab": {
          "base_uri": "https://localhost:8080/"
        },
        "id": "i8Mn35I9Nsx-",
        "outputId": "016be289-1b58-46d0-b2c9-0dbd6dabdac9"
      },
      "execution_count": 7,
      "outputs": [
        {
          "output_type": "execute_result",
          "data": {
            "text/plain": [
              "['Dog', 'Cat']"
            ]
          },
          "metadata": {},
          "execution_count": 7
        }
      ]
    },
    {
      "cell_type": "code",
      "source": [
        "for i in sub:\n",
        "  sub_path=os.path.join(datadir,i)\n",
        "  a=os.listdir(sub_path)\n",
        "  print(a)"
      ],
      "metadata": {
        "colab": {
          "base_uri": "https://localhost:8080/"
        },
        "id": "-obeMxgZOtSy",
        "outputId": "40e94b68-534e-459d-a07b-ce8142e41832"
      },
      "execution_count": 8,
      "outputs": [
        {
          "output_type": "stream",
          "name": "stdout",
          "text": [
            "['dog.13.jpg', 'dog.15.jpg', 'dog.12.jpg', 'dog.14.jpg', 'dog.24.jpg', 'dog.23.jpg', 'dog.16.jpg', 'dog.18.jpg', 'dog.19.jpg', 'dog.21.jpg', 'dog.20.jpg', 'dog.17.jpg', 'dog.22.jpg', 'dog.27.jpg', 'dog.30.jpg', 'dog.31.jpg', 'dog.33.jpg', 'dog.32.jpg', 'dog.28.jpg', 'dog.26.jpg', 'dog.25.jpg', 'dog.47.jpg', 'dog.34.jpg', 'dog.40.jpg', 'dog.46.jpg', 'dog.51.jpg', 'dog.38.jpg', 'dog.56.jpg', 'dog.42.jpg', 'dog.55.jpg', 'dog.35.jpg', 'dog.60.jpg', 'dog.48.jpg', 'dog.39.jpg', 'dog.58.jpg', 'dog.44.jpg', 'dog.36.jpg', 'dog.57.jpg', 'dog.45.jpg', 'dog.65.jpg', 'dog.77.jpg', 'dog.70.jpg', 'dog.64.jpg', 'dog.67.jpg', 'dog.71.jpg', 'dog.78.jpg', 'dog.81.jpg', 'dog.69.jpg', 'dog.82.jpg', 'dog.79.jpg', 'dog.68.jpg', 'dog.66.jpg', 'dog.61.jpg', 'dog.63.jpg', 'dog.76.jpg', 'dog.80.jpg', 'download1.jpeg', 'download2.jpeg', 'download3.jpeg', 'download4.jpeg', 'download5.jpeg', 'download6.jpeg', 'images.jpeg', 'images1.jpeg', 'download7.jpeg', 'download8.jpeg']\n",
            "['cat.10.jpg', 'cat.1 - Copy.jpg', 'cat.11.jpg', 'cat.17.jpg', 'cat.18.jpg', 'cat.16.jpg', 'cat.2 - Copy.jpg', 'cat.13.jpg', 'cat.21.jpg', 'cat.12.jpg', 'cat.20.jpg', 'cat.15.jpg', 'cat.14.jpg', 'cat.24.jpg', 'cat.27.jpg', 'cat.3 - Copy.jpg', 'cat.28.jpg', 'cat.30.jpg', 'cat.29.jpg', 'cat.31.jpg', 'cat.53.jpg', 'cat.36.jpg', 'cat.41.jpg', 'cat.5 - Copy.jpg', 'cat.33.jpg', 'cat.47.jpg', 'cat.49.jpg', 'cat.38.jpg', 'cat.39.jpg', 'cat.54.jpg', 'cat.4 - Copy.jpg', 'cat.50.jpg', 'cat.32.jpg', 'cat.44.jpg', 'cat.42.jpg', 'cat.43.jpg', 'cat.35.jpg', 'cat.48.jpg', 'cat.37.jpg', 'cat.51.jpg', 'cat.34.jpg', 'cat.5.jpg', 'cat.46.jpg', 'cat.52.jpg', 'cat.40.jpg', 'cat.8.jpg', 'cat.7.jpg', 'cat.9.jpg', 'download.jpeg', 'download1.jpeg', 'download2.jpeg', 'download3.jpeg', 'download4.jpeg', 'download5.jpeg', 'download6.jpeg', 'download7.jpeg', 'download8.jpeg', 'images9.jpeg', 'images.jpeg', 'downloadcat.jpeg']\n"
          ]
        }
      ]
    },
    {
      "cell_type": "code",
      "source": [
        "for j in  a:\n",
        "  next_path=os.path.join(sub_path,i)\n",
        "  print(next_path)"
      ],
      "metadata": {
        "colab": {
          "base_uri": "https://localhost:8080/"
        },
        "id": "EIGj4ANKQFdo",
        "outputId": "6acab64f-cf9b-471c-aa44-7551732e6803"
      },
      "execution_count": 9,
      "outputs": [
        {
          "output_type": "stream",
          "name": "stdout",
          "text": [
            "/content/drive/MyDrive/DATA/Cat/Cat\n",
            "/content/drive/MyDrive/DATA/Cat/Cat\n",
            "/content/drive/MyDrive/DATA/Cat/Cat\n",
            "/content/drive/MyDrive/DATA/Cat/Cat\n",
            "/content/drive/MyDrive/DATA/Cat/Cat\n",
            "/content/drive/MyDrive/DATA/Cat/Cat\n",
            "/content/drive/MyDrive/DATA/Cat/Cat\n",
            "/content/drive/MyDrive/DATA/Cat/Cat\n",
            "/content/drive/MyDrive/DATA/Cat/Cat\n",
            "/content/drive/MyDrive/DATA/Cat/Cat\n",
            "/content/drive/MyDrive/DATA/Cat/Cat\n",
            "/content/drive/MyDrive/DATA/Cat/Cat\n",
            "/content/drive/MyDrive/DATA/Cat/Cat\n",
            "/content/drive/MyDrive/DATA/Cat/Cat\n",
            "/content/drive/MyDrive/DATA/Cat/Cat\n",
            "/content/drive/MyDrive/DATA/Cat/Cat\n",
            "/content/drive/MyDrive/DATA/Cat/Cat\n",
            "/content/drive/MyDrive/DATA/Cat/Cat\n",
            "/content/drive/MyDrive/DATA/Cat/Cat\n",
            "/content/drive/MyDrive/DATA/Cat/Cat\n",
            "/content/drive/MyDrive/DATA/Cat/Cat\n",
            "/content/drive/MyDrive/DATA/Cat/Cat\n",
            "/content/drive/MyDrive/DATA/Cat/Cat\n",
            "/content/drive/MyDrive/DATA/Cat/Cat\n",
            "/content/drive/MyDrive/DATA/Cat/Cat\n",
            "/content/drive/MyDrive/DATA/Cat/Cat\n",
            "/content/drive/MyDrive/DATA/Cat/Cat\n",
            "/content/drive/MyDrive/DATA/Cat/Cat\n",
            "/content/drive/MyDrive/DATA/Cat/Cat\n",
            "/content/drive/MyDrive/DATA/Cat/Cat\n",
            "/content/drive/MyDrive/DATA/Cat/Cat\n",
            "/content/drive/MyDrive/DATA/Cat/Cat\n",
            "/content/drive/MyDrive/DATA/Cat/Cat\n",
            "/content/drive/MyDrive/DATA/Cat/Cat\n",
            "/content/drive/MyDrive/DATA/Cat/Cat\n",
            "/content/drive/MyDrive/DATA/Cat/Cat\n",
            "/content/drive/MyDrive/DATA/Cat/Cat\n",
            "/content/drive/MyDrive/DATA/Cat/Cat\n",
            "/content/drive/MyDrive/DATA/Cat/Cat\n",
            "/content/drive/MyDrive/DATA/Cat/Cat\n",
            "/content/drive/MyDrive/DATA/Cat/Cat\n",
            "/content/drive/MyDrive/DATA/Cat/Cat\n",
            "/content/drive/MyDrive/DATA/Cat/Cat\n",
            "/content/drive/MyDrive/DATA/Cat/Cat\n",
            "/content/drive/MyDrive/DATA/Cat/Cat\n",
            "/content/drive/MyDrive/DATA/Cat/Cat\n",
            "/content/drive/MyDrive/DATA/Cat/Cat\n",
            "/content/drive/MyDrive/DATA/Cat/Cat\n",
            "/content/drive/MyDrive/DATA/Cat/Cat\n",
            "/content/drive/MyDrive/DATA/Cat/Cat\n",
            "/content/drive/MyDrive/DATA/Cat/Cat\n",
            "/content/drive/MyDrive/DATA/Cat/Cat\n",
            "/content/drive/MyDrive/DATA/Cat/Cat\n",
            "/content/drive/MyDrive/DATA/Cat/Cat\n",
            "/content/drive/MyDrive/DATA/Cat/Cat\n",
            "/content/drive/MyDrive/DATA/Cat/Cat\n",
            "/content/drive/MyDrive/DATA/Cat/Cat\n",
            "/content/drive/MyDrive/DATA/Cat/Cat\n",
            "/content/drive/MyDrive/DATA/Cat/Cat\n",
            "/content/drive/MyDrive/DATA/Cat/Cat\n"
          ]
        }
      ]
    },
    {
      "cell_type": "code",
      "source": [
        "import pandas as pd\n",
        "import matplotlib.pyplot as plt\n",
        "from skimage.transform import resize\n",
        "from skimage.io import imread\n",
        "from sklearn.svm import SVC\n",
        "from sklearn.model_selection import train_test_split\n",
        "from sklearn.metrics import classification_report,ConfusionMatrixDisplay"
      ],
      "metadata": {
        "id": "8ruW52DhdzBn"
      },
      "execution_count": 10,
      "outputs": []
    },
    {
      "cell_type": "code",
      "source": [
        "data_array=[]\n",
        "target_array=[]\n",
        "categories=['Cat','Dog']\n",
        "datadir='/content/drive/MyDrive/DATA'"
      ],
      "metadata": {
        "id": "67XMhzi3Po5a"
      },
      "execution_count": 11,
      "outputs": []
    },
    {
      "cell_type": "code",
      "source": [
        "img=imread('/content/drive/MyDrive/DATA/Cat/cat.10.jpg')\n",
        "img"
      ],
      "metadata": {
        "colab": {
          "base_uri": "https://localhost:8080/"
        },
        "id": "w8vIarhwfG5r",
        "outputId": "91cedd3e-73de-4d0d-b921-6bd87d9c1c43"
      },
      "execution_count": 12,
      "outputs": [
        {
          "output_type": "execute_result",
          "data": {
            "text/plain": [
              "array([[[ 26,  30,  39],\n",
              "        [ 24,  28,  37],\n",
              "        [ 19,  23,  32],\n",
              "        ...,\n",
              "        [126, 158, 155],\n",
              "        [125, 157, 154],\n",
              "        [125, 157, 154]],\n",
              "\n",
              "       [[ 29,  33,  42],\n",
              "        [ 29,  33,  42],\n",
              "        [ 26,  30,  39],\n",
              "        ...,\n",
              "        [126, 158, 155],\n",
              "        [125, 157, 154],\n",
              "        [124, 156, 153]],\n",
              "\n",
              "       [[ 30,  34,  43],\n",
              "        [ 34,  38,  47],\n",
              "        [ 35,  39,  48],\n",
              "        ...,\n",
              "        [127, 159, 156],\n",
              "        [126, 158, 155],\n",
              "        [124, 156, 153]],\n",
              "\n",
              "       ...,\n",
              "\n",
              "       [[165, 151, 116],\n",
              "        [163, 149, 114],\n",
              "        [156, 142, 105],\n",
              "        ...,\n",
              "        [175, 171,   2],\n",
              "        [172, 167,   3],\n",
              "        [166, 161,   0]],\n",
              "\n",
              "       [[160, 146, 111],\n",
              "        [159, 145, 110],\n",
              "        [153, 139, 102],\n",
              "        ...,\n",
              "        [175, 171,   2],\n",
              "        [172, 167,   3],\n",
              "        [166, 161,   0]],\n",
              "\n",
              "       [[154, 140, 105],\n",
              "        [154, 140, 105],\n",
              "        [150, 136,  99],\n",
              "        ...,\n",
              "        [175, 171,   2],\n",
              "        [172, 167,   3],\n",
              "        [166, 161,   0]]], dtype=uint8)"
            ]
          },
          "metadata": {},
          "execution_count": 12
        }
      ]
    },
    {
      "cell_type": "code",
      "source": [
        "from typing_extensions import dataclass_transform\n",
        "data_array=[]\n",
        "target_array=[]\n",
        "categories=['Cat','Dog']\n",
        "datadir='/content/drive/MyDrive/DATA'\n",
        "for i in categories:\n",
        "  sub_path=os.path.join(datadir,i)\n",
        "  images=os.listdir(sub_path)            #here comes as list\n",
        "  for img in images:\n",
        "    img_path=os.path.join(sub_path,img)\n",
        "    img_array=imread(img_path)\n",
        "    img_resized=resize(img_array,(150,150,3))\n",
        "    data_array.append(img_resized.flatten())\n",
        "    target_array.append(categories.index(i))\n",
        "  print('loaded category:',i)"
      ],
      "metadata": {
        "colab": {
          "base_uri": "https://localhost:8080/"
        },
        "id": "pkur6kDFfwv6",
        "outputId": "a8f5a612-9597-4b66-e352-49d0b9b12bec"
      },
      "execution_count": 13,
      "outputs": [
        {
          "output_type": "stream",
          "name": "stdout",
          "text": [
            "loaded category: Cat\n",
            "loaded category: Dog\n"
          ]
        }
      ]
    },
    {
      "cell_type": "code",
      "source": [
        "import numpy as np\n"
      ],
      "metadata": {
        "id": "wK3QGX_ijvvS"
      },
      "execution_count": 14,
      "outputs": []
    },
    {
      "cell_type": "code",
      "source": [
        "data=np.array(data_array)\n",
        "data.shape #150*150*3"
      ],
      "metadata": {
        "colab": {
          "base_uri": "https://localhost:8080/"
        },
        "id": "88RHPOluj6e0",
        "outputId": "2e5d05db-2a3d-4a48-9188-5c9f3b138b46"
      },
      "execution_count": 15,
      "outputs": [
        {
          "output_type": "execute_result",
          "data": {
            "text/plain": [
              "(126, 67500)"
            ]
          },
          "metadata": {},
          "execution_count": 15
        }
      ]
    },
    {
      "cell_type": "code",
      "source": [
        "target=np.array(target_array)\n",
        "target.shape"
      ],
      "metadata": {
        "colab": {
          "base_uri": "https://localhost:8080/"
        },
        "id": "6O8-NWPYl2G_",
        "outputId": "26da9919-78c0-4dfd-c684-5f9a8bda2c7d"
      },
      "execution_count": 16,
      "outputs": [
        {
          "output_type": "execute_result",
          "data": {
            "text/plain": [
              "(126,)"
            ]
          },
          "metadata": {},
          "execution_count": 16
        }
      ]
    },
    {
      "cell_type": "code",
      "source": [
        "df=pd.DataFrame(data)\n",
        "df"
      ],
      "metadata": {
        "colab": {
          "base_uri": "https://localhost:8080/",
          "height": 488
        },
        "id": "yFZ12XQMmBFX",
        "outputId": "2546ee4b-653d-4f8a-a6fd-81acdc07e54a"
      },
      "execution_count": 17,
      "outputs": [
        {
          "output_type": "execute_result",
          "data": {
            "text/plain": [
              "        0         1         2         3         4         5         6      \\\n",
              "0    0.112229  0.128222  0.163382  0.068747  0.084740  0.125080  0.088116   \n",
              "1    0.154919  0.174317  0.159262  0.158661  0.174557  0.174348  0.160470   \n",
              "2    0.890555  0.917245  0.909245  0.909860  0.948941  0.944676  0.925683   \n",
              "3    0.102460  0.102460  0.102460  0.109354  0.109354  0.109354  0.106019   \n",
              "4    0.450773  0.011956  0.071498  0.450767  0.006846  0.059286  0.471130   \n",
              "..        ...       ...       ...       ...       ...       ...       ...   \n",
              "121  0.540430  0.592002  0.587192  0.536907  0.582837  0.564881  0.473051   \n",
              "122  0.525404  0.515404  0.385404  0.541982  0.531982  0.401980  0.549706   \n",
              "123  0.180388  0.305878  0.211760  0.179468  0.304958  0.210840  0.176474   \n",
              "124  0.265494  0.194915  0.165522  0.289091  0.236930  0.201553  0.297122   \n",
              "125  1.000000  1.000000  1.000000  1.000000  1.000000  1.000000  1.000000   \n",
              "\n",
              "        7         8         9      ...     67490     67491     67492  \\\n",
              "0    0.103733  0.150911  0.149698  ...  0.008552  0.756716  0.752803   \n",
              "1    0.174195  0.189462  0.162110  ...  0.224704  0.197318  0.138913   \n",
              "2    0.980147  0.980362  0.749868  ...  0.947478  0.774726  0.836644   \n",
              "3    0.106019  0.106019  0.113694  ...  0.211287  0.318348  0.331493   \n",
              "4    0.015850  0.064732  0.474026  ...  0.062624  0.642030  0.015206   \n",
              "..        ...       ...       ...  ...       ...       ...       ...   \n",
              "121  0.511448  0.474642  0.414647  ...  0.187970  0.070573  0.083511   \n",
              "122  0.539706  0.408779  0.541766  ...  0.327961  0.547997  0.553535   \n",
              "123  0.301964  0.207846  0.174089  ...  0.170797  0.407024  0.567886   \n",
              "124  0.270173  0.230698  0.270863  ...  0.152773  0.311343  0.311343   \n",
              "125  1.000000  1.000000  1.000000  ...  1.000000  1.000000  1.000000   \n",
              "\n",
              "        67493     67494     67495     67496     67497     67498     67499  \n",
              "0    0.014710  0.728919  0.718809  0.021388  0.675097  0.656312  0.013387  \n",
              "1    0.111461  0.190055  0.138656  0.107701  0.180396  0.134622  0.101754  \n",
              "2    0.941021  0.761761  0.824506  0.923488  0.784133  0.846879  0.942937  \n",
              "3    0.318138  0.265920  0.293626  0.276704  0.363970  0.375376  0.367386  \n",
              "4    0.069585  0.646300  0.015762  0.079527  0.654410  0.026855  0.074540  \n",
              "..        ...       ...       ...       ...       ...       ...       ...  \n",
              "121  0.048696  0.227812  0.231461  0.175383  0.065175  0.065175  0.027635  \n",
              "122  0.311182  0.547216  0.562070  0.275076  0.673287  0.665615  0.441600  \n",
              "123  0.167792  0.393432  0.571711  0.150718  0.392157  0.572549  0.149020  \n",
              "124  0.115264  0.383767  0.383767  0.187688  0.405936  0.405936  0.209857  \n",
              "125  1.000000  1.000000  1.000000  1.000000  1.000000  1.000000  1.000000  \n",
              "\n",
              "[126 rows x 67500 columns]"
            ],
            "text/html": [
              "\n",
              "  <div id=\"df-fadb1e4e-f3fd-48c7-a170-debcafe136b9\">\n",
              "    <div class=\"colab-df-container\">\n",
              "      <div>\n",
              "<style scoped>\n",
              "    .dataframe tbody tr th:only-of-type {\n",
              "        vertical-align: middle;\n",
              "    }\n",
              "\n",
              "    .dataframe tbody tr th {\n",
              "        vertical-align: top;\n",
              "    }\n",
              "\n",
              "    .dataframe thead th {\n",
              "        text-align: right;\n",
              "    }\n",
              "</style>\n",
              "<table border=\"1\" class=\"dataframe\">\n",
              "  <thead>\n",
              "    <tr style=\"text-align: right;\">\n",
              "      <th></th>\n",
              "      <th>0</th>\n",
              "      <th>1</th>\n",
              "      <th>2</th>\n",
              "      <th>3</th>\n",
              "      <th>4</th>\n",
              "      <th>5</th>\n",
              "      <th>6</th>\n",
              "      <th>7</th>\n",
              "      <th>8</th>\n",
              "      <th>9</th>\n",
              "      <th>...</th>\n",
              "      <th>67490</th>\n",
              "      <th>67491</th>\n",
              "      <th>67492</th>\n",
              "      <th>67493</th>\n",
              "      <th>67494</th>\n",
              "      <th>67495</th>\n",
              "      <th>67496</th>\n",
              "      <th>67497</th>\n",
              "      <th>67498</th>\n",
              "      <th>67499</th>\n",
              "    </tr>\n",
              "  </thead>\n",
              "  <tbody>\n",
              "    <tr>\n",
              "      <th>0</th>\n",
              "      <td>0.112229</td>\n",
              "      <td>0.128222</td>\n",
              "      <td>0.163382</td>\n",
              "      <td>0.068747</td>\n",
              "      <td>0.084740</td>\n",
              "      <td>0.125080</td>\n",
              "      <td>0.088116</td>\n",
              "      <td>0.103733</td>\n",
              "      <td>0.150911</td>\n",
              "      <td>0.149698</td>\n",
              "      <td>...</td>\n",
              "      <td>0.008552</td>\n",
              "      <td>0.756716</td>\n",
              "      <td>0.752803</td>\n",
              "      <td>0.014710</td>\n",
              "      <td>0.728919</td>\n",
              "      <td>0.718809</td>\n",
              "      <td>0.021388</td>\n",
              "      <td>0.675097</td>\n",
              "      <td>0.656312</td>\n",
              "      <td>0.013387</td>\n",
              "    </tr>\n",
              "    <tr>\n",
              "      <th>1</th>\n",
              "      <td>0.154919</td>\n",
              "      <td>0.174317</td>\n",
              "      <td>0.159262</td>\n",
              "      <td>0.158661</td>\n",
              "      <td>0.174557</td>\n",
              "      <td>0.174348</td>\n",
              "      <td>0.160470</td>\n",
              "      <td>0.174195</td>\n",
              "      <td>0.189462</td>\n",
              "      <td>0.162110</td>\n",
              "      <td>...</td>\n",
              "      <td>0.224704</td>\n",
              "      <td>0.197318</td>\n",
              "      <td>0.138913</td>\n",
              "      <td>0.111461</td>\n",
              "      <td>0.190055</td>\n",
              "      <td>0.138656</td>\n",
              "      <td>0.107701</td>\n",
              "      <td>0.180396</td>\n",
              "      <td>0.134622</td>\n",
              "      <td>0.101754</td>\n",
              "    </tr>\n",
              "    <tr>\n",
              "      <th>2</th>\n",
              "      <td>0.890555</td>\n",
              "      <td>0.917245</td>\n",
              "      <td>0.909245</td>\n",
              "      <td>0.909860</td>\n",
              "      <td>0.948941</td>\n",
              "      <td>0.944676</td>\n",
              "      <td>0.925683</td>\n",
              "      <td>0.980147</td>\n",
              "      <td>0.980362</td>\n",
              "      <td>0.749868</td>\n",
              "      <td>...</td>\n",
              "      <td>0.947478</td>\n",
              "      <td>0.774726</td>\n",
              "      <td>0.836644</td>\n",
              "      <td>0.941021</td>\n",
              "      <td>0.761761</td>\n",
              "      <td>0.824506</td>\n",
              "      <td>0.923488</td>\n",
              "      <td>0.784133</td>\n",
              "      <td>0.846879</td>\n",
              "      <td>0.942937</td>\n",
              "    </tr>\n",
              "    <tr>\n",
              "      <th>3</th>\n",
              "      <td>0.102460</td>\n",
              "      <td>0.102460</td>\n",
              "      <td>0.102460</td>\n",
              "      <td>0.109354</td>\n",
              "      <td>0.109354</td>\n",
              "      <td>0.109354</td>\n",
              "      <td>0.106019</td>\n",
              "      <td>0.106019</td>\n",
              "      <td>0.106019</td>\n",
              "      <td>0.113694</td>\n",
              "      <td>...</td>\n",
              "      <td>0.211287</td>\n",
              "      <td>0.318348</td>\n",
              "      <td>0.331493</td>\n",
              "      <td>0.318138</td>\n",
              "      <td>0.265920</td>\n",
              "      <td>0.293626</td>\n",
              "      <td>0.276704</td>\n",
              "      <td>0.363970</td>\n",
              "      <td>0.375376</td>\n",
              "      <td>0.367386</td>\n",
              "    </tr>\n",
              "    <tr>\n",
              "      <th>4</th>\n",
              "      <td>0.450773</td>\n",
              "      <td>0.011956</td>\n",
              "      <td>0.071498</td>\n",
              "      <td>0.450767</td>\n",
              "      <td>0.006846</td>\n",
              "      <td>0.059286</td>\n",
              "      <td>0.471130</td>\n",
              "      <td>0.015850</td>\n",
              "      <td>0.064732</td>\n",
              "      <td>0.474026</td>\n",
              "      <td>...</td>\n",
              "      <td>0.062624</td>\n",
              "      <td>0.642030</td>\n",
              "      <td>0.015206</td>\n",
              "      <td>0.069585</td>\n",
              "      <td>0.646300</td>\n",
              "      <td>0.015762</td>\n",
              "      <td>0.079527</td>\n",
              "      <td>0.654410</td>\n",
              "      <td>0.026855</td>\n",
              "      <td>0.074540</td>\n",
              "    </tr>\n",
              "    <tr>\n",
              "      <th>...</th>\n",
              "      <td>...</td>\n",
              "      <td>...</td>\n",
              "      <td>...</td>\n",
              "      <td>...</td>\n",
              "      <td>...</td>\n",
              "      <td>...</td>\n",
              "      <td>...</td>\n",
              "      <td>...</td>\n",
              "      <td>...</td>\n",
              "      <td>...</td>\n",
              "      <td>...</td>\n",
              "      <td>...</td>\n",
              "      <td>...</td>\n",
              "      <td>...</td>\n",
              "      <td>...</td>\n",
              "      <td>...</td>\n",
              "      <td>...</td>\n",
              "      <td>...</td>\n",
              "      <td>...</td>\n",
              "      <td>...</td>\n",
              "      <td>...</td>\n",
              "    </tr>\n",
              "    <tr>\n",
              "      <th>121</th>\n",
              "      <td>0.540430</td>\n",
              "      <td>0.592002</td>\n",
              "      <td>0.587192</td>\n",
              "      <td>0.536907</td>\n",
              "      <td>0.582837</td>\n",
              "      <td>0.564881</td>\n",
              "      <td>0.473051</td>\n",
              "      <td>0.511448</td>\n",
              "      <td>0.474642</td>\n",
              "      <td>0.414647</td>\n",
              "      <td>...</td>\n",
              "      <td>0.187970</td>\n",
              "      <td>0.070573</td>\n",
              "      <td>0.083511</td>\n",
              "      <td>0.048696</td>\n",
              "      <td>0.227812</td>\n",
              "      <td>0.231461</td>\n",
              "      <td>0.175383</td>\n",
              "      <td>0.065175</td>\n",
              "      <td>0.065175</td>\n",
              "      <td>0.027635</td>\n",
              "    </tr>\n",
              "    <tr>\n",
              "      <th>122</th>\n",
              "      <td>0.525404</td>\n",
              "      <td>0.515404</td>\n",
              "      <td>0.385404</td>\n",
              "      <td>0.541982</td>\n",
              "      <td>0.531982</td>\n",
              "      <td>0.401980</td>\n",
              "      <td>0.549706</td>\n",
              "      <td>0.539706</td>\n",
              "      <td>0.408779</td>\n",
              "      <td>0.541766</td>\n",
              "      <td>...</td>\n",
              "      <td>0.327961</td>\n",
              "      <td>0.547997</td>\n",
              "      <td>0.553535</td>\n",
              "      <td>0.311182</td>\n",
              "      <td>0.547216</td>\n",
              "      <td>0.562070</td>\n",
              "      <td>0.275076</td>\n",
              "      <td>0.673287</td>\n",
              "      <td>0.665615</td>\n",
              "      <td>0.441600</td>\n",
              "    </tr>\n",
              "    <tr>\n",
              "      <th>123</th>\n",
              "      <td>0.180388</td>\n",
              "      <td>0.305878</td>\n",
              "      <td>0.211760</td>\n",
              "      <td>0.179468</td>\n",
              "      <td>0.304958</td>\n",
              "      <td>0.210840</td>\n",
              "      <td>0.176474</td>\n",
              "      <td>0.301964</td>\n",
              "      <td>0.207846</td>\n",
              "      <td>0.174089</td>\n",
              "      <td>...</td>\n",
              "      <td>0.170797</td>\n",
              "      <td>0.407024</td>\n",
              "      <td>0.567886</td>\n",
              "      <td>0.167792</td>\n",
              "      <td>0.393432</td>\n",
              "      <td>0.571711</td>\n",
              "      <td>0.150718</td>\n",
              "      <td>0.392157</td>\n",
              "      <td>0.572549</td>\n",
              "      <td>0.149020</td>\n",
              "    </tr>\n",
              "    <tr>\n",
              "      <th>124</th>\n",
              "      <td>0.265494</td>\n",
              "      <td>0.194915</td>\n",
              "      <td>0.165522</td>\n",
              "      <td>0.289091</td>\n",
              "      <td>0.236930</td>\n",
              "      <td>0.201553</td>\n",
              "      <td>0.297122</td>\n",
              "      <td>0.270173</td>\n",
              "      <td>0.230698</td>\n",
              "      <td>0.270863</td>\n",
              "      <td>...</td>\n",
              "      <td>0.152773</td>\n",
              "      <td>0.311343</td>\n",
              "      <td>0.311343</td>\n",
              "      <td>0.115264</td>\n",
              "      <td>0.383767</td>\n",
              "      <td>0.383767</td>\n",
              "      <td>0.187688</td>\n",
              "      <td>0.405936</td>\n",
              "      <td>0.405936</td>\n",
              "      <td>0.209857</td>\n",
              "    </tr>\n",
              "    <tr>\n",
              "      <th>125</th>\n",
              "      <td>1.000000</td>\n",
              "      <td>1.000000</td>\n",
              "      <td>1.000000</td>\n",
              "      <td>1.000000</td>\n",
              "      <td>1.000000</td>\n",
              "      <td>1.000000</td>\n",
              "      <td>1.000000</td>\n",
              "      <td>1.000000</td>\n",
              "      <td>1.000000</td>\n",
              "      <td>1.000000</td>\n",
              "      <td>...</td>\n",
              "      <td>1.000000</td>\n",
              "      <td>1.000000</td>\n",
              "      <td>1.000000</td>\n",
              "      <td>1.000000</td>\n",
              "      <td>1.000000</td>\n",
              "      <td>1.000000</td>\n",
              "      <td>1.000000</td>\n",
              "      <td>1.000000</td>\n",
              "      <td>1.000000</td>\n",
              "      <td>1.000000</td>\n",
              "    </tr>\n",
              "  </tbody>\n",
              "</table>\n",
              "<p>126 rows × 67500 columns</p>\n",
              "</div>\n",
              "      <button class=\"colab-df-convert\" onclick=\"convertToInteractive('df-fadb1e4e-f3fd-48c7-a170-debcafe136b9')\"\n",
              "              title=\"Convert this dataframe to an interactive table.\"\n",
              "              style=\"display:none;\">\n",
              "        \n",
              "  <svg xmlns=\"http://www.w3.org/2000/svg\" height=\"24px\"viewBox=\"0 0 24 24\"\n",
              "       width=\"24px\">\n",
              "    <path d=\"M0 0h24v24H0V0z\" fill=\"none\"/>\n",
              "    <path d=\"M18.56 5.44l.94 2.06.94-2.06 2.06-.94-2.06-.94-.94-2.06-.94 2.06-2.06.94zm-11 1L8.5 8.5l.94-2.06 2.06-.94-2.06-.94L8.5 2.5l-.94 2.06-2.06.94zm10 10l.94 2.06.94-2.06 2.06-.94-2.06-.94-.94-2.06-.94 2.06-2.06.94z\"/><path d=\"M17.41 7.96l-1.37-1.37c-.4-.4-.92-.59-1.43-.59-.52 0-1.04.2-1.43.59L10.3 9.45l-7.72 7.72c-.78.78-.78 2.05 0 2.83L4 21.41c.39.39.9.59 1.41.59.51 0 1.02-.2 1.41-.59l7.78-7.78 2.81-2.81c.8-.78.8-2.07 0-2.86zM5.41 20L4 18.59l7.72-7.72 1.47 1.35L5.41 20z\"/>\n",
              "  </svg>\n",
              "      </button>\n",
              "      \n",
              "  <style>\n",
              "    .colab-df-container {\n",
              "      display:flex;\n",
              "      flex-wrap:wrap;\n",
              "      gap: 12px;\n",
              "    }\n",
              "\n",
              "    .colab-df-convert {\n",
              "      background-color: #E8F0FE;\n",
              "      border: none;\n",
              "      border-radius: 50%;\n",
              "      cursor: pointer;\n",
              "      display: none;\n",
              "      fill: #1967D2;\n",
              "      height: 32px;\n",
              "      padding: 0 0 0 0;\n",
              "      width: 32px;\n",
              "    }\n",
              "\n",
              "    .colab-df-convert:hover {\n",
              "      background-color: #E2EBFA;\n",
              "      box-shadow: 0px 1px 2px rgba(60, 64, 67, 0.3), 0px 1px 3px 1px rgba(60, 64, 67, 0.15);\n",
              "      fill: #174EA6;\n",
              "    }\n",
              "\n",
              "    [theme=dark] .colab-df-convert {\n",
              "      background-color: #3B4455;\n",
              "      fill: #D2E3FC;\n",
              "    }\n",
              "\n",
              "    [theme=dark] .colab-df-convert:hover {\n",
              "      background-color: #434B5C;\n",
              "      box-shadow: 0px 1px 3px 1px rgba(0, 0, 0, 0.15);\n",
              "      filter: drop-shadow(0px 1px 2px rgba(0, 0, 0, 0.3));\n",
              "      fill: #FFFFFF;\n",
              "    }\n",
              "  </style>\n",
              "\n",
              "      <script>\n",
              "        const buttonEl =\n",
              "          document.querySelector('#df-fadb1e4e-f3fd-48c7-a170-debcafe136b9 button.colab-df-convert');\n",
              "        buttonEl.style.display =\n",
              "          google.colab.kernel.accessAllowed ? 'block' : 'none';\n",
              "\n",
              "        async function convertToInteractive(key) {\n",
              "          const element = document.querySelector('#df-fadb1e4e-f3fd-48c7-a170-debcafe136b9');\n",
              "          const dataTable =\n",
              "            await google.colab.kernel.invokeFunction('convertToInteractive',\n",
              "                                                     [key], {});\n",
              "          if (!dataTable) return;\n",
              "\n",
              "          const docLinkHtml = 'Like what you see? Visit the ' +\n",
              "            '<a target=\"_blank\" href=https://colab.research.google.com/notebooks/data_table.ipynb>data table notebook</a>'\n",
              "            + ' to learn more about interactive tables.';\n",
              "          element.innerHTML = '';\n",
              "          dataTable['output_type'] = 'display_data';\n",
              "          await google.colab.output.renderOutput(dataTable, element);\n",
              "          const docLink = document.createElement('div');\n",
              "          docLink.innerHTML = docLinkHtml;\n",
              "          element.appendChild(docLink);\n",
              "        }\n",
              "      </script>\n",
              "    </div>\n",
              "  </div>\n",
              "  "
            ]
          },
          "metadata": {},
          "execution_count": 17
        }
      ]
    },
    {
      "cell_type": "code",
      "source": [
        "df['target']=target\n",
        "df"
      ],
      "metadata": {
        "colab": {
          "base_uri": "https://localhost:8080/",
          "height": 488
        },
        "id": "p2sGlwa5mLu-",
        "outputId": "94d656ea-1a07-4577-8ca8-ab3499158ba8"
      },
      "execution_count": 18,
      "outputs": [
        {
          "output_type": "execute_result",
          "data": {
            "text/plain": [
              "            0         1         2         3         4         5         6  \\\n",
              "0    0.112229  0.128222  0.163382  0.068747  0.084740  0.125080  0.088116   \n",
              "1    0.154919  0.174317  0.159262  0.158661  0.174557  0.174348  0.160470   \n",
              "2    0.890555  0.917245  0.909245  0.909860  0.948941  0.944676  0.925683   \n",
              "3    0.102460  0.102460  0.102460  0.109354  0.109354  0.109354  0.106019   \n",
              "4    0.450773  0.011956  0.071498  0.450767  0.006846  0.059286  0.471130   \n",
              "..        ...       ...       ...       ...       ...       ...       ...   \n",
              "121  0.540430  0.592002  0.587192  0.536907  0.582837  0.564881  0.473051   \n",
              "122  0.525404  0.515404  0.385404  0.541982  0.531982  0.401980  0.549706   \n",
              "123  0.180388  0.305878  0.211760  0.179468  0.304958  0.210840  0.176474   \n",
              "124  0.265494  0.194915  0.165522  0.289091  0.236930  0.201553  0.297122   \n",
              "125  1.000000  1.000000  1.000000  1.000000  1.000000  1.000000  1.000000   \n",
              "\n",
              "            7         8         9  ...     67491     67492     67493  \\\n",
              "0    0.103733  0.150911  0.149698  ...  0.756716  0.752803  0.014710   \n",
              "1    0.174195  0.189462  0.162110  ...  0.197318  0.138913  0.111461   \n",
              "2    0.980147  0.980362  0.749868  ...  0.774726  0.836644  0.941021   \n",
              "3    0.106019  0.106019  0.113694  ...  0.318348  0.331493  0.318138   \n",
              "4    0.015850  0.064732  0.474026  ...  0.642030  0.015206  0.069585   \n",
              "..        ...       ...       ...  ...       ...       ...       ...   \n",
              "121  0.511448  0.474642  0.414647  ...  0.070573  0.083511  0.048696   \n",
              "122  0.539706  0.408779  0.541766  ...  0.547997  0.553535  0.311182   \n",
              "123  0.301964  0.207846  0.174089  ...  0.407024  0.567886  0.167792   \n",
              "124  0.270173  0.230698  0.270863  ...  0.311343  0.311343  0.115264   \n",
              "125  1.000000  1.000000  1.000000  ...  1.000000  1.000000  1.000000   \n",
              "\n",
              "        67494     67495     67496     67497     67498     67499  target  \n",
              "0    0.728919  0.718809  0.021388  0.675097  0.656312  0.013387       0  \n",
              "1    0.190055  0.138656  0.107701  0.180396  0.134622  0.101754       0  \n",
              "2    0.761761  0.824506  0.923488  0.784133  0.846879  0.942937       0  \n",
              "3    0.265920  0.293626  0.276704  0.363970  0.375376  0.367386       0  \n",
              "4    0.646300  0.015762  0.079527  0.654410  0.026855  0.074540       0  \n",
              "..        ...       ...       ...       ...       ...       ...     ...  \n",
              "121  0.227812  0.231461  0.175383  0.065175  0.065175  0.027635       1  \n",
              "122  0.547216  0.562070  0.275076  0.673287  0.665615  0.441600       1  \n",
              "123  0.393432  0.571711  0.150718  0.392157  0.572549  0.149020       1  \n",
              "124  0.383767  0.383767  0.187688  0.405936  0.405936  0.209857       1  \n",
              "125  1.000000  1.000000  1.000000  1.000000  1.000000  1.000000       1  \n",
              "\n",
              "[126 rows x 67501 columns]"
            ],
            "text/html": [
              "\n",
              "  <div id=\"df-2346e49c-781a-4774-9322-224550a808a4\">\n",
              "    <div class=\"colab-df-container\">\n",
              "      <div>\n",
              "<style scoped>\n",
              "    .dataframe tbody tr th:only-of-type {\n",
              "        vertical-align: middle;\n",
              "    }\n",
              "\n",
              "    .dataframe tbody tr th {\n",
              "        vertical-align: top;\n",
              "    }\n",
              "\n",
              "    .dataframe thead th {\n",
              "        text-align: right;\n",
              "    }\n",
              "</style>\n",
              "<table border=\"1\" class=\"dataframe\">\n",
              "  <thead>\n",
              "    <tr style=\"text-align: right;\">\n",
              "      <th></th>\n",
              "      <th>0</th>\n",
              "      <th>1</th>\n",
              "      <th>2</th>\n",
              "      <th>3</th>\n",
              "      <th>4</th>\n",
              "      <th>5</th>\n",
              "      <th>6</th>\n",
              "      <th>7</th>\n",
              "      <th>8</th>\n",
              "      <th>9</th>\n",
              "      <th>...</th>\n",
              "      <th>67491</th>\n",
              "      <th>67492</th>\n",
              "      <th>67493</th>\n",
              "      <th>67494</th>\n",
              "      <th>67495</th>\n",
              "      <th>67496</th>\n",
              "      <th>67497</th>\n",
              "      <th>67498</th>\n",
              "      <th>67499</th>\n",
              "      <th>target</th>\n",
              "    </tr>\n",
              "  </thead>\n",
              "  <tbody>\n",
              "    <tr>\n",
              "      <th>0</th>\n",
              "      <td>0.112229</td>\n",
              "      <td>0.128222</td>\n",
              "      <td>0.163382</td>\n",
              "      <td>0.068747</td>\n",
              "      <td>0.084740</td>\n",
              "      <td>0.125080</td>\n",
              "      <td>0.088116</td>\n",
              "      <td>0.103733</td>\n",
              "      <td>0.150911</td>\n",
              "      <td>0.149698</td>\n",
              "      <td>...</td>\n",
              "      <td>0.756716</td>\n",
              "      <td>0.752803</td>\n",
              "      <td>0.014710</td>\n",
              "      <td>0.728919</td>\n",
              "      <td>0.718809</td>\n",
              "      <td>0.021388</td>\n",
              "      <td>0.675097</td>\n",
              "      <td>0.656312</td>\n",
              "      <td>0.013387</td>\n",
              "      <td>0</td>\n",
              "    </tr>\n",
              "    <tr>\n",
              "      <th>1</th>\n",
              "      <td>0.154919</td>\n",
              "      <td>0.174317</td>\n",
              "      <td>0.159262</td>\n",
              "      <td>0.158661</td>\n",
              "      <td>0.174557</td>\n",
              "      <td>0.174348</td>\n",
              "      <td>0.160470</td>\n",
              "      <td>0.174195</td>\n",
              "      <td>0.189462</td>\n",
              "      <td>0.162110</td>\n",
              "      <td>...</td>\n",
              "      <td>0.197318</td>\n",
              "      <td>0.138913</td>\n",
              "      <td>0.111461</td>\n",
              "      <td>0.190055</td>\n",
              "      <td>0.138656</td>\n",
              "      <td>0.107701</td>\n",
              "      <td>0.180396</td>\n",
              "      <td>0.134622</td>\n",
              "      <td>0.101754</td>\n",
              "      <td>0</td>\n",
              "    </tr>\n",
              "    <tr>\n",
              "      <th>2</th>\n",
              "      <td>0.890555</td>\n",
              "      <td>0.917245</td>\n",
              "      <td>0.909245</td>\n",
              "      <td>0.909860</td>\n",
              "      <td>0.948941</td>\n",
              "      <td>0.944676</td>\n",
              "      <td>0.925683</td>\n",
              "      <td>0.980147</td>\n",
              "      <td>0.980362</td>\n",
              "      <td>0.749868</td>\n",
              "      <td>...</td>\n",
              "      <td>0.774726</td>\n",
              "      <td>0.836644</td>\n",
              "      <td>0.941021</td>\n",
              "      <td>0.761761</td>\n",
              "      <td>0.824506</td>\n",
              "      <td>0.923488</td>\n",
              "      <td>0.784133</td>\n",
              "      <td>0.846879</td>\n",
              "      <td>0.942937</td>\n",
              "      <td>0</td>\n",
              "    </tr>\n",
              "    <tr>\n",
              "      <th>3</th>\n",
              "      <td>0.102460</td>\n",
              "      <td>0.102460</td>\n",
              "      <td>0.102460</td>\n",
              "      <td>0.109354</td>\n",
              "      <td>0.109354</td>\n",
              "      <td>0.109354</td>\n",
              "      <td>0.106019</td>\n",
              "      <td>0.106019</td>\n",
              "      <td>0.106019</td>\n",
              "      <td>0.113694</td>\n",
              "      <td>...</td>\n",
              "      <td>0.318348</td>\n",
              "      <td>0.331493</td>\n",
              "      <td>0.318138</td>\n",
              "      <td>0.265920</td>\n",
              "      <td>0.293626</td>\n",
              "      <td>0.276704</td>\n",
              "      <td>0.363970</td>\n",
              "      <td>0.375376</td>\n",
              "      <td>0.367386</td>\n",
              "      <td>0</td>\n",
              "    </tr>\n",
              "    <tr>\n",
              "      <th>4</th>\n",
              "      <td>0.450773</td>\n",
              "      <td>0.011956</td>\n",
              "      <td>0.071498</td>\n",
              "      <td>0.450767</td>\n",
              "      <td>0.006846</td>\n",
              "      <td>0.059286</td>\n",
              "      <td>0.471130</td>\n",
              "      <td>0.015850</td>\n",
              "      <td>0.064732</td>\n",
              "      <td>0.474026</td>\n",
              "      <td>...</td>\n",
              "      <td>0.642030</td>\n",
              "      <td>0.015206</td>\n",
              "      <td>0.069585</td>\n",
              "      <td>0.646300</td>\n",
              "      <td>0.015762</td>\n",
              "      <td>0.079527</td>\n",
              "      <td>0.654410</td>\n",
              "      <td>0.026855</td>\n",
              "      <td>0.074540</td>\n",
              "      <td>0</td>\n",
              "    </tr>\n",
              "    <tr>\n",
              "      <th>...</th>\n",
              "      <td>...</td>\n",
              "      <td>...</td>\n",
              "      <td>...</td>\n",
              "      <td>...</td>\n",
              "      <td>...</td>\n",
              "      <td>...</td>\n",
              "      <td>...</td>\n",
              "      <td>...</td>\n",
              "      <td>...</td>\n",
              "      <td>...</td>\n",
              "      <td>...</td>\n",
              "      <td>...</td>\n",
              "      <td>...</td>\n",
              "      <td>...</td>\n",
              "      <td>...</td>\n",
              "      <td>...</td>\n",
              "      <td>...</td>\n",
              "      <td>...</td>\n",
              "      <td>...</td>\n",
              "      <td>...</td>\n",
              "      <td>...</td>\n",
              "    </tr>\n",
              "    <tr>\n",
              "      <th>121</th>\n",
              "      <td>0.540430</td>\n",
              "      <td>0.592002</td>\n",
              "      <td>0.587192</td>\n",
              "      <td>0.536907</td>\n",
              "      <td>0.582837</td>\n",
              "      <td>0.564881</td>\n",
              "      <td>0.473051</td>\n",
              "      <td>0.511448</td>\n",
              "      <td>0.474642</td>\n",
              "      <td>0.414647</td>\n",
              "      <td>...</td>\n",
              "      <td>0.070573</td>\n",
              "      <td>0.083511</td>\n",
              "      <td>0.048696</td>\n",
              "      <td>0.227812</td>\n",
              "      <td>0.231461</td>\n",
              "      <td>0.175383</td>\n",
              "      <td>0.065175</td>\n",
              "      <td>0.065175</td>\n",
              "      <td>0.027635</td>\n",
              "      <td>1</td>\n",
              "    </tr>\n",
              "    <tr>\n",
              "      <th>122</th>\n",
              "      <td>0.525404</td>\n",
              "      <td>0.515404</td>\n",
              "      <td>0.385404</td>\n",
              "      <td>0.541982</td>\n",
              "      <td>0.531982</td>\n",
              "      <td>0.401980</td>\n",
              "      <td>0.549706</td>\n",
              "      <td>0.539706</td>\n",
              "      <td>0.408779</td>\n",
              "      <td>0.541766</td>\n",
              "      <td>...</td>\n",
              "      <td>0.547997</td>\n",
              "      <td>0.553535</td>\n",
              "      <td>0.311182</td>\n",
              "      <td>0.547216</td>\n",
              "      <td>0.562070</td>\n",
              "      <td>0.275076</td>\n",
              "      <td>0.673287</td>\n",
              "      <td>0.665615</td>\n",
              "      <td>0.441600</td>\n",
              "      <td>1</td>\n",
              "    </tr>\n",
              "    <tr>\n",
              "      <th>123</th>\n",
              "      <td>0.180388</td>\n",
              "      <td>0.305878</td>\n",
              "      <td>0.211760</td>\n",
              "      <td>0.179468</td>\n",
              "      <td>0.304958</td>\n",
              "      <td>0.210840</td>\n",
              "      <td>0.176474</td>\n",
              "      <td>0.301964</td>\n",
              "      <td>0.207846</td>\n",
              "      <td>0.174089</td>\n",
              "      <td>...</td>\n",
              "      <td>0.407024</td>\n",
              "      <td>0.567886</td>\n",
              "      <td>0.167792</td>\n",
              "      <td>0.393432</td>\n",
              "      <td>0.571711</td>\n",
              "      <td>0.150718</td>\n",
              "      <td>0.392157</td>\n",
              "      <td>0.572549</td>\n",
              "      <td>0.149020</td>\n",
              "      <td>1</td>\n",
              "    </tr>\n",
              "    <tr>\n",
              "      <th>124</th>\n",
              "      <td>0.265494</td>\n",
              "      <td>0.194915</td>\n",
              "      <td>0.165522</td>\n",
              "      <td>0.289091</td>\n",
              "      <td>0.236930</td>\n",
              "      <td>0.201553</td>\n",
              "      <td>0.297122</td>\n",
              "      <td>0.270173</td>\n",
              "      <td>0.230698</td>\n",
              "      <td>0.270863</td>\n",
              "      <td>...</td>\n",
              "      <td>0.311343</td>\n",
              "      <td>0.311343</td>\n",
              "      <td>0.115264</td>\n",
              "      <td>0.383767</td>\n",
              "      <td>0.383767</td>\n",
              "      <td>0.187688</td>\n",
              "      <td>0.405936</td>\n",
              "      <td>0.405936</td>\n",
              "      <td>0.209857</td>\n",
              "      <td>1</td>\n",
              "    </tr>\n",
              "    <tr>\n",
              "      <th>125</th>\n",
              "      <td>1.000000</td>\n",
              "      <td>1.000000</td>\n",
              "      <td>1.000000</td>\n",
              "      <td>1.000000</td>\n",
              "      <td>1.000000</td>\n",
              "      <td>1.000000</td>\n",
              "      <td>1.000000</td>\n",
              "      <td>1.000000</td>\n",
              "      <td>1.000000</td>\n",
              "      <td>1.000000</td>\n",
              "      <td>...</td>\n",
              "      <td>1.000000</td>\n",
              "      <td>1.000000</td>\n",
              "      <td>1.000000</td>\n",
              "      <td>1.000000</td>\n",
              "      <td>1.000000</td>\n",
              "      <td>1.000000</td>\n",
              "      <td>1.000000</td>\n",
              "      <td>1.000000</td>\n",
              "      <td>1.000000</td>\n",
              "      <td>1</td>\n",
              "    </tr>\n",
              "  </tbody>\n",
              "</table>\n",
              "<p>126 rows × 67501 columns</p>\n",
              "</div>\n",
              "      <button class=\"colab-df-convert\" onclick=\"convertToInteractive('df-2346e49c-781a-4774-9322-224550a808a4')\"\n",
              "              title=\"Convert this dataframe to an interactive table.\"\n",
              "              style=\"display:none;\">\n",
              "        \n",
              "  <svg xmlns=\"http://www.w3.org/2000/svg\" height=\"24px\"viewBox=\"0 0 24 24\"\n",
              "       width=\"24px\">\n",
              "    <path d=\"M0 0h24v24H0V0z\" fill=\"none\"/>\n",
              "    <path d=\"M18.56 5.44l.94 2.06.94-2.06 2.06-.94-2.06-.94-.94-2.06-.94 2.06-2.06.94zm-11 1L8.5 8.5l.94-2.06 2.06-.94-2.06-.94L8.5 2.5l-.94 2.06-2.06.94zm10 10l.94 2.06.94-2.06 2.06-.94-2.06-.94-.94-2.06-.94 2.06-2.06.94z\"/><path d=\"M17.41 7.96l-1.37-1.37c-.4-.4-.92-.59-1.43-.59-.52 0-1.04.2-1.43.59L10.3 9.45l-7.72 7.72c-.78.78-.78 2.05 0 2.83L4 21.41c.39.39.9.59 1.41.59.51 0 1.02-.2 1.41-.59l7.78-7.78 2.81-2.81c.8-.78.8-2.07 0-2.86zM5.41 20L4 18.59l7.72-7.72 1.47 1.35L5.41 20z\"/>\n",
              "  </svg>\n",
              "      </button>\n",
              "      \n",
              "  <style>\n",
              "    .colab-df-container {\n",
              "      display:flex;\n",
              "      flex-wrap:wrap;\n",
              "      gap: 12px;\n",
              "    }\n",
              "\n",
              "    .colab-df-convert {\n",
              "      background-color: #E8F0FE;\n",
              "      border: none;\n",
              "      border-radius: 50%;\n",
              "      cursor: pointer;\n",
              "      display: none;\n",
              "      fill: #1967D2;\n",
              "      height: 32px;\n",
              "      padding: 0 0 0 0;\n",
              "      width: 32px;\n",
              "    }\n",
              "\n",
              "    .colab-df-convert:hover {\n",
              "      background-color: #E2EBFA;\n",
              "      box-shadow: 0px 1px 2px rgba(60, 64, 67, 0.3), 0px 1px 3px 1px rgba(60, 64, 67, 0.15);\n",
              "      fill: #174EA6;\n",
              "    }\n",
              "\n",
              "    [theme=dark] .colab-df-convert {\n",
              "      background-color: #3B4455;\n",
              "      fill: #D2E3FC;\n",
              "    }\n",
              "\n",
              "    [theme=dark] .colab-df-convert:hover {\n",
              "      background-color: #434B5C;\n",
              "      box-shadow: 0px 1px 3px 1px rgba(0, 0, 0, 0.15);\n",
              "      filter: drop-shadow(0px 1px 2px rgba(0, 0, 0, 0.3));\n",
              "      fill: #FFFFFF;\n",
              "    }\n",
              "  </style>\n",
              "\n",
              "      <script>\n",
              "        const buttonEl =\n",
              "          document.querySelector('#df-2346e49c-781a-4774-9322-224550a808a4 button.colab-df-convert');\n",
              "        buttonEl.style.display =\n",
              "          google.colab.kernel.accessAllowed ? 'block' : 'none';\n",
              "\n",
              "        async function convertToInteractive(key) {\n",
              "          const element = document.querySelector('#df-2346e49c-781a-4774-9322-224550a808a4');\n",
              "          const dataTable =\n",
              "            await google.colab.kernel.invokeFunction('convertToInteractive',\n",
              "                                                     [key], {});\n",
              "          if (!dataTable) return;\n",
              "\n",
              "          const docLinkHtml = 'Like what you see? Visit the ' +\n",
              "            '<a target=\"_blank\" href=https://colab.research.google.com/notebooks/data_table.ipynb>data table notebook</a>'\n",
              "            + ' to learn more about interactive tables.';\n",
              "          element.innerHTML = '';\n",
              "          dataTable['output_type'] = 'display_data';\n",
              "          await google.colab.output.renderOutput(dataTable, element);\n",
              "          const docLink = document.createElement('div');\n",
              "          docLink.innerHTML = docLinkHtml;\n",
              "          element.appendChild(docLink);\n",
              "        }\n",
              "      </script>\n",
              "    </div>\n",
              "  </div>\n",
              "  "
            ]
          },
          "metadata": {},
          "execution_count": 18
        }
      ]
    },
    {
      "cell_type": "code",
      "source": [
        "X_train,X_test,y_train,y_test=train_test_split(data,target,test_size=0.3,random_state=1)"
      ],
      "metadata": {
        "id": "iAuHTd1xnGYQ"
      },
      "execution_count": 19,
      "outputs": []
    },
    {
      "cell_type": "code",
      "source": [
        "sv=SVC()\n",
        "sv.fit(X_train,y_train)\n",
        "y_pred=sv.predict(X_test)\n",
        "y_pred"
      ],
      "metadata": {
        "colab": {
          "base_uri": "https://localhost:8080/"
        },
        "id": "f5Rh9VCjnLJQ",
        "outputId": "971851cf-32f9-457e-ddac-5e4a0c4e87be"
      },
      "execution_count": 20,
      "outputs": [
        {
          "output_type": "execute_result",
          "data": {
            "text/plain": [
              "array([0, 0, 1, 0, 1, 0, 0, 1, 0, 0, 0, 0, 1, 0, 1, 0, 1, 0, 1, 0, 1, 1,\n",
              "       1, 0, 0, 1, 0, 1, 0, 1, 0, 0, 0, 1, 0, 1, 0, 1])"
            ]
          },
          "metadata": {},
          "execution_count": 20
        }
      ]
    },
    {
      "cell_type": "code",
      "source": [
        "print(classification_report(y_test,y_pred))\n",
        "print(ConfusionMatrixDisplay.from_predictions(y_test,y_pred))"
      ],
      "metadata": {
        "colab": {
          "base_uri": "https://localhost:8080/",
          "height": 623
        },
        "id": "8onXc9Leng2e",
        "outputId": "b0eb4e11-fa4e-4c95-f566-abbe8589e04e"
      },
      "execution_count": 21,
      "outputs": [
        {
          "output_type": "stream",
          "name": "stdout",
          "text": [
            "              precision    recall  f1-score   support\n",
            "\n",
            "           0       0.55      0.80      0.65        15\n",
            "           1       0.81      0.57      0.67        23\n",
            "\n",
            "    accuracy                           0.66        38\n",
            "   macro avg       0.68      0.68      0.66        38\n",
            "weighted avg       0.71      0.66      0.66        38\n",
            "\n",
            "<sklearn.metrics._plot.confusion_matrix.ConfusionMatrixDisplay object at 0x7f1fcecdb040>\n"
          ]
        },
        {
          "output_type": "display_data",
          "data": {
            "text/plain": [
              "<Figure size 640x480 with 2 Axes>"
            ],
            "image/png": "[encoded data removed]"
          },
          "metadata": {}
        }
      ]
    },
    {
      "cell_type": "code",
      "source": [
        "new=imread('/content/download3.jpg')\n",
        "plt.imshow(new)\n",
        "plt.show()"
      ],
      "metadata": {
        "colab": {
          "base_uri": "https://localhost:8080/",
          "height": 434
        },
        "id": "7ml6P2H8oX5R",
        "outputId": "49689af8-3539-40c6-968b-c6510b5d34d5"
      },
      "execution_count": 22,
      "outputs": [
        {
          "output_type": "display_data",
          "data": {
            "text/plain": [
              "<Figure size 640x480 with 1 Axes>"
            ],
            "image/png": "[encoded data removed]"
          },
          "metadata": {}
        }
      ]
    },
    {
      "cell_type": "code",
      "source": [
        "new=resize(new,(150,150,3))\n",
        "newimg=new.flatten()\n",
        "newimg=newimg.reshape(1,-1)\n",
        "newimg.shape"
      ],
      "metadata": {
        "colab": {
          "base_uri": "https://localhost:8080/"
        },
        "id": "qJmInd9BpFiD",
        "outputId": "c2ff5dd1-569f-4171-89cd-65e4a2eed6a8"
      },
      "execution_count": 23,
      "outputs": [
        {
          "output_type": "execute_result",
          "data": {
            "text/plain": [
              "(1, 67500)"
            ]
          },
          "metadata": {},
          "execution_count": 23
        }
      ]
    },
    {
      "cell_type": "code",
      "source": [
        "y=sv.predict(newimg)\n",
        "if y==0:\n",
        "  print('cat')\n",
        "else:\n",
        "  print('dog')"
      ],
      "metadata": {
        "colab": {
          "base_uri": "https://localhost:8080/"
        },
        "id": "FIkNMdv6qJrc",
        "outputId": "c55d6fee-c6ba-45a9-ba44-996735830a80"
      },
      "execution_count": 24,
      "outputs": [
        {
          "output_type": "stream",
          "name": "stdout",
          "text": [
            "cat\n"
          ]
        }
      ]
    }
  ]
}